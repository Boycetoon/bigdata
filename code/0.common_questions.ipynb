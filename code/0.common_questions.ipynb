{
 "cells": [
  {
   "cell_type": "markdown",
   "metadata": {
    "slideshow": {
     "slide_type": "slide"
    }
   },
   "source": [
    "在anaconda 环境中运行jupyter notebook\n",
    "\n",
    "***\n",
    "***\n",
    "# 问题及其解决方法\n",
    "***\n",
    "***\n"
   ]
  },
  {
   "cell_type": "markdown",
   "metadata": {
    "slideshow": {
     "slide_type": "slide"
    }
   },
   "source": [
    "1. jupyter_contrib_nbextensions\n",
    "https://github.com/ipython-contrib/jupyter_contrib_nbextensions\n",
    "\n",
    "1. RISE\n",
    "https://github.com/damianavila/RISE\n",
    "\n",
    "3. STATA\n",
    "\n",
    "```terminal\n",
    "pip install stata_kernel\n",
    "python -m stata_kernel.install\n",
    "```"
   ]
  },
  {
   "cell_type": "markdown",
   "metadata": {
    "slideshow": {
     "slide_type": "slide"
    }
   },
   "source": [
    "# Mac电脑如何快速找到用户目录\n",
    "　  \n",
    "- 1、在finder的`偏好设置`中选择`边栏`选中个人收藏下`房子的图标`，然后在边栏就可以看到用户目录，然后就可以找到目录了。\n",
    "\n",
    "- 2、在finder的`偏好设置`中选择`通用`，然后选择`磁盘`，磁盘就出现在桌面了，这样也可以很方便的进入`根目录`，进而找到用户目录；\n",
    "\n",
    "- 3、`桌面目录`下，菜单`前往`-`个人`也可以进入`用户目录`"
   ]
  },
  {
   "cell_type": "markdown",
   "metadata": {
    "slideshow": {
     "slide_type": "slide"
    }
   },
   "source": [
    "# 如何打开jupyter notebook\n",
    "\n",
    "- Mac users： 打开terminal （可以在launchpad中找到），输入：`jupyter notebook`\n",
    "- windows users: 在电脑左下角输入'cmd'打开terminal, 输入：`jupyter notebook`"
   ]
  },
  {
   "cell_type": "markdown",
   "metadata": {
    "slideshow": {
     "slide_type": "slide"
    }
   },
   "source": [
    "# 在terminal里成功安装第三方的包，结果发现在notebook里无法import\n",
    "> 这个问题多出现于mac用户，因为mac有一个系统自带的python，成功安装的第三方包都被安装到了系统自带的python里。因此需要确保我们使用的是conda自己的pip，即需要指定pip的路径名，比如我的pip路径名在：/Users/datalab/anaconda/bin/pip,那么在terminal里输入：\n",
    "\n",
    "> /Users/datalab/anaconda/bin/pip install package_name"
   ]
  },
  {
   "cell_type": "markdown",
   "metadata": {
    "slideshow": {
     "slide_type": "slide"
    }
   },
   "source": [
    "- 或者在notebook的初始页面，右上方-new-terminal,在这个terminal里输入 \n",
    "> **pip install package_name**\n",
    "- 或者通过anaconda自带的spyder安装\n",
    "- 常用的包也可以直接 \n",
    "> **conda install package_name**\n"
   ]
  },
  {
   "cell_type": "markdown",
   "metadata": {
    "collapsed": true,
    "slideshow": {
     "slide_type": "slide"
    }
   },
   "source": [
    "# 如何查看anaconda自带的包和已经安装的包？\n",
    "> 打开terminal，输入： conda list"
   ]
  },
  {
   "cell_type": "markdown",
   "metadata": {
    "slideshow": {
     "slide_type": "slide"
    }
   },
   "source": [
    "# windows用户安装graphlab-create出错：unistall tornado, permission denied： tornado/speedup.pdy, 解决方法：\n",
    "- 首先，卸载tornado：\n",
    "> conda remove tornado\n",
    "- 然后，重新运行：\n",
    "> pip install -U graphlab-create"
   ]
  },
  {
   "cell_type": "markdown",
   "metadata": {
    "slideshow": {
     "slide_type": "slide"
    }
   },
   "source": [
    "# 添加Anaconda的国内镜像，快速安装Python包\n",
    "\n",
    "**南大镜像**\n",
    "\n",
    "https://mirrors.nju.edu.cn/anaconda/archive/\n",
    "\n",
    "**添加清华镜像**\n",
    "\n",
    "https://mirrors.tuna.tsinghua.edu.cn/help/anaconda/\n",
    "  \n",
    "#### 设置搜索时显示通道地址  \n",
    "> conda config --set show_channel_urls yes  \n",
    "\n",
    "**添加中科大镜像**\n",
    "\n",
    "http://mirrors.ustc.edu.cn/help/anaconda.html\n",
    "\n",
    "如果命令行方法添加不上，可以在用户目录下的`.condarc`中添加https://mirrors.tuna.tsinghua.edu.cn/anaconda/pkgs/free/： \n",
    "如果没有该文件可以直接创建，Windows为`C://Users/username/.condarc`，Linux/Mac为`~/.condarc`\n",
    "\n",
    "## 指定镜像 \n",
    "> conda install -c https://mirrors.ustc.edu.cn/anaconda/cloud/conda-forge/ basemap"
   ]
  },
  {
   "cell_type": "markdown",
   "metadata": {
    "slideshow": {
     "slide_type": "slide"
    }
   },
   "source": [
    "\n",
    "# To install a different version of Python without overwriting the current version\n",
    "\n",
    "https://conda.io/docs/user-guide/tasks/manage-python.html\n",
    "\n",
    "Creating a new environment and install the second Python version into it. To create the new environment for Python 2.7, in your Terminal window or an Anaconda Prompt, run:\n",
    "> conda create -n py27 python=2.7 anaconda\n",
    "\n",
    "## Activate the new environment ** 切换到新环境**\n",
    "\n",
    "- linux/Mac下需要使用: `source activate py27`\n",
    "- windows需要使用: `activate py27`\n",
    "\n",
    "**退出环境: `source deactivate py27`\n",
    "也可以使用** `activate root`切回root环境\n",
    "\n",
    "3. [Verify that the new environment is your current environment.](https://conda.io/docs/user-guide/tasks/manage-environments.html#determine-current-env)\n",
    "4. To verify that the current environment uses the new Python version, in your Terminal window or an Anaconda Prompt, run: `python --version`"
   ]
  },
  {
   "cell_type": "markdown",
   "metadata": {
    "ExecuteTime": {
     "end_time": "2018-01-30T14:50:02.470601Z",
     "start_time": "2018-01-30T14:50:02.465394Z"
    },
    "slideshow": {
     "slide_type": "slide"
    }
   },
   "source": [
    "## 使用py27环境时的一个例子：\n",
    "\n",
    "- 激活py27环境：`source activate py27`\n",
    "- 打开notebook： `jupyter notebook`\n",
    "- 关闭py27环境：`source deactivate py27`"
   ]
  },
  {
   "cell_type": "markdown",
   "metadata": {
    "slideshow": {
     "slide_type": "slide"
    }
   },
   "source": [
    "# 如何让graphlab在notebook中展示所有的结果（不另外打开新的窗口）\n",
    "> 运行以下代码"
   ]
  },
  {
   "cell_type": "code",
   "execution_count": 1,
   "metadata": {
    "slideshow": {
     "slide_type": "slide"
    }
   },
   "outputs": [
    {
     "name": "stderr",
     "output_type": "stream",
     "text": [
      "A newer version of GraphLab Create (v1.9) is available! Your current version is v1.8.5.\n",
      "\n",
      "You can use pip to upgrade the graphlab-create package. For more information see https://dato.com/products/create/upgrade.\n"
     ]
    }
   ],
   "source": [
    "import graphlab as gl\n",
    "from IPython.display import display\n",
    "from IPython.display import Image\n",
    "\n",
    "gl.canvas.set_target('ipynb')"
   ]
  },
  {
   "cell_type": "markdown",
   "metadata": {
    "slideshow": {
     "slide_type": "slide"
    }
   },
   "source": [
    "# 如何卸载一个包\n",
    "> conda remove package_name"
   ]
  },
  {
   "cell_type": "markdown",
   "metadata": {
    "collapsed": true,
    "slideshow": {
     "slide_type": "slide"
    }
   },
   "source": [
    "# roll back to a specific commit\n",
    "\n",
    "#### open the terminal, and cd to your github repo, e.g., \n",
    "\n",
    "> cd github/cjc2016\n",
    "\n",
    "#### git reset --hard <old-commit-id>, and if your old-commit-id is 3808166\n",
    "\n",
    "> git reset --hard 3808166\n",
    "\n",
    "> git push origin HEAD --force\n",
    "\n",
    "http://stackoverflow.com/questions/4372435/how-can-i-rollback-a-github-repository-to-a-specific-commit"
   ]
  },
  {
   "cell_type": "markdown",
   "metadata": {
    "slideshow": {
     "slide_type": "slide"
    }
   },
   "source": [
    "# python matplotlib plot 数据中的中文无法正常显示的解决办法\n",
    "\n",
    "原因：matplotlib默认字体并不是中文字体。\n",
    "\n",
    "解决方法：将某中文字体设为默认首选字体，本文拟将默认字体设为微软雅黑。\n",
    "\n",
    "环境：windows\n",
    "\n",
    "过程：\n",
    "\n",
    "在python的安装目录中找到配置文件：%Python_Home%\\Lib\\site-packages\\matplotlib\\mpl-data\\matplotlibrc，用任意文本编辑器打开。（最好先备份一下）\n",
    "\n",
    "找到第139行：#font.family， 将其注释去掉，冒号后面的值改为Microsoft YaHei\n",
    "\n",
    "找到第151行：#font.sans-serif， 将其注释去掉，并将Microsoft YaHei添加到冒号后面的最前面，注意还要再加一个英文逗号（,）\n",
    "\n",
    "为保险其间，到C:\\Windows\\Fonts\\中找到微软雅黑对应的字体文件msyh.ttf，将其复制到D:\\Python32\\Lib\\site-packages\\matplotlib\\mpl-data\\fonts\\ttf\\目录下\n",
    "\n"
   ]
  },
  {
   "cell_type": "markdown",
   "metadata": {
    "slideshow": {
     "slide_type": "slide"
    }
   },
   "source": [
    "# python matplotlib plot 数据中的中文无法正常显示的解决办法\n",
    "\n",
    "原因：matplotlib默认字体并不是中文字体。\n",
    "\n",
    "解决方法：将某中文字体设为默认首选字体，本文拟将默认字体设为微软雅黑。\n",
    "\n",
    "环境：Mac\n",
    "\n",
    "过程：\n",
    "\n",
    "下载微软雅黑对应的字体文件msyh.ttf，双击并安装msyh.ttf。\n",
    "\n",
    "在python的安装目录中找到配置文件：%Python_Home%\\Lib\\site-packages\\matplotlib\\mpl-data\\matplotlibrc，用任意文本编辑器打开。（最好先备份一下）\n",
    "\n",
    "找到第139行：#font.family， 将其注释去掉，冒号后面的值改为Microsoft YaHei\n",
    "\n",
    "找到第151行：#font.sans-serif， 将其注释去掉，并将Microsoft YaHei添加到冒号后面的最前面，注意还要再加一个英文逗号（,）\n",
    "\n",
    "为保险期间，可以将msyh.ttf复制到%Python_Home%\\Lib\\site-packages\\matplotlib\\mpl-data\\fonts\\ttf\\目录下\n",
    "\n"
   ]
  },
  {
   "cell_type": "code",
   "execution_count": 2,
   "metadata": {
    "ExecuteTime": {
     "end_time": "2019-09-15T09:45:15.536907Z",
     "start_time": "2019-09-15T09:45:15.430026Z"
    }
   },
   "outputs": [
    {
     "data": {
      "image/png": "[encoded data removed]",
      "text/plain": [
       "<Figure size 432x288 with 1 Axes>"
      ]
     },
     "metadata": {
      "needs_background": "light"
     },
     "output_type": "display_data"
    }
   ],
   "source": [
    "%matplotlib inline \n",
    "# to show matplotlib plots inline the notebook.\n",
    "import matplotlib.pyplot as plt\n",
    "\n",
    "plt.plot(range(10), range(10), 'r-o')\n",
    "plt.xlabel('随机数', fontsize = 20)\n",
    "plt.show()"
   ]
  },
  {
   "cell_type": "markdown",
   "metadata": {
    "slideshow": {
     "slide_type": "slide"
    }
   },
   "source": [
    "# Jupyter contrib nbextensions\n",
    "\n",
    "- Unofficial Jupyter Notebook Extensions\n",
    "- A collection of various notebook extensions for Jupyter \n",
    "\n",
    "http://jupyter-contrib-nbextensions.readthedocs.io/en/latest/\n",
    "\n",
    "https://github.com/ipython-contrib/jupyter_contrib_nbextensions\n",
    "\n",
    "http://localhost:8888/nbextensions\n",
    "\n",
    "# Jupyter Nbextensions Configurator\n",
    "\n",
    "A jupyter notebook serverextension providing config interfaces for nbextensions.\n",
    "\n",
    "https://github.com/Jupyter-contrib/jupyter_nbextensions_configurator\n",
    "\n",
    "前者是各类型有用的插件，后者是能够直接在Jupyter 上图形话调节界面的功能。"
   ]
  },
  {
   "cell_type": "markdown",
   "metadata": {},
   "source": [
    "# 输出PDF\n",
    "\n",
    " a、安装pandoc\n",
    "\n",
    "https://github.com/jgm/pandoc/releases/tag/1.19.2.1\n",
    "\n",
    " b、安装MiKTeX\n",
    "\n",
    "https://miktex.org/download\n",
    "\n",
    " c、安装 GNU make for windows\n",
    "\n",
    "http://gnuwin32.sourceforge.net/packages/make.htm\n",
    "\n",
    " d、把上面安装好的软件路径，全部添加到环境变量里面\n",
    "\n",
    " e、PDF支持中文\n",
    "\n",
    " C:\\Python27\\Lib\\site-packages\\nbconvert\\templates\\latex\\article.tplx\n",
    "\n",
    " 把 \\documentclass[11pt]{article} 修改为  \\documentclass[11pt]{ctexart} 即可！！！\n",
    "\n",
    " \n",
    "\n",
    "Pandoc 支持中文\n",
    "\n",
    "pandoc infile.md -o outfile.pdf --latex-engine=xelatex -V mainfont=\"SimSun\""
   ]
  },
  {
   "cell_type": "markdown",
   "metadata": {
    "slideshow": {
     "slide_type": "slide"
    }
   },
   "source": [
    "# 安装twitter_text\n",
    "> ## <del>pip install twitter-text-py</de> \n",
    "\n",
    "[twitter-text-py](https://github.com/dryan/twitter-text-py/issues/21) could not be used for python 3, I debug the problem, and make [a new repo of twitter-text-py3](https://github.com/computational-class/twitter-text-py3).\n",
    "\n",
    "\n",
    "> ## pip install git+https://github.com/computational-class/twitter-text-py3.git"
   ]
  },
  {
   "cell_type": "code",
   "execution_count": 1,
   "metadata": {
    "slideshow": {
     "slide_type": "subslide"
    }
   },
   "outputs": [
    {
     "name": "stdout",
     "output_type": "stream",
     "text": [
      "['AnonKitsu', 'chengjun', 'mili'] ['http://computational-communication.com', 'http://ccc.nju.edu.cn'] ['OCCUPYWALLSTREET', 'OWS', 'OCCUPYNY'] -------->\n"
     ]
    }
   ],
   "source": [
    "import twitter_text\n",
    "\n",
    "tweet = '''RT @AnonKitsu: ALERT!!!!!!!!!!COPS ARE KETTLING PROTESTERS IN PARK W HELICOPTERS AND PADDYWAGONS!!!! \n",
    "            #OCCUPYWALLSTREET #OWS #OCCUPYNY PLEASE @chengjun @mili http://computational-communication.com \n",
    "            http://ccc.nju.edu.cn RT !!HELP!!!!'''\n",
    "\n",
    "ex = twitter_text.Extractor(tweet)\n",
    "at_names = ex.extract_mentioned_screen_names()\n",
    "urls = ex.extract_urls()\n",
    "hashtags = ex.extract_hashtags()\n",
    "print(at_names, urls, hashtags,'-------->')"
   ]
  },
  {
   "cell_type": "code",
   "execution_count": 2,
   "metadata": {
    "slideshow": {
     "slide_type": "subslide"
    }
   },
   "outputs": [
    {
     "name": "stdout",
     "output_type": "stream",
     "text": [
      "Help on package twitter_text:\n",
      "\n",
      "NAME\n",
      "    twitter_text - # encoding=utf-8\n",
      "\n",
      "PACKAGE CONTENTS\n",
      "    autolink\n",
      "    extractor\n",
      "    highlighter\n",
      "    regex\n",
      "    templatetags (package)\n",
      "    unicode\n",
      "    validation\n",
      "\n",
      "CLASSES\n",
      "    builtins.object\n",
      "        TwitterText\n",
      "    \n",
      "    class TwitterText(builtins.object)\n",
      "     |  Methods defined here:\n",
      "     |  \n",
      "     |  __init__(self, text)\n",
      "     |      Initialize self.  See help(type(self)) for accurate signature.\n",
      "     |  \n",
      "     |  __repr__(self)\n",
      "     |      Return repr(self).\n",
      "     |  \n",
      "     |  __unicode__(self)\n",
      "     |  \n",
      "     |  ----------------------------------------------------------------------\n",
      "     |  Data descriptors defined here:\n",
      "     |  \n",
      "     |  __dict__\n",
      "     |      dictionary for instance variables (if defined)\n",
      "     |  \n",
      "     |  __weakref__\n",
      "     |      list of weak references to the object (if defined)\n",
      "     |  \n",
      "     |  autolink\n",
      "     |  \n",
      "     |  extractor\n",
      "     |  \n",
      "     |  highlighter\n",
      "     |  \n",
      "     |  validation\n",
      "\n",
      "FILE\n",
      "    /Users/datalab/Applications/anaconda/lib/python3.5/site-packages/twitter_text/__init__.py\n",
      "\n",
      "\n"
     ]
    }
   ],
   "source": [
    "import twitter_text\n",
    "help(twitter_text)"
   ]
  },
  {
   "cell_type": "markdown",
   "metadata": {
    "slideshow": {
     "slide_type": "slide"
    }
   },
   "source": [
    "# END"
   ]
  }
 ],
 "metadata": {
  "anaconda-cloud": {},
  "celltoolbar": "Slideshow",
  "kernel_info": {
   "name": "python3"
  },
  "kernelspec": {
   "display_name": "Python 3",
   "language": "python",
   "name": "python3"
  },
  "language_info": {
   "codemirror_mode": {
    "name": "ipython",
    "version": 3
   },
   "file_extension": ".py",
   "mimetype": "text/x-python",
   "name": "python",
   "nbconvert_exporter": "python",
   "pygments_lexer": "ipython3",
   "version": "3.7.6"
  },
  "latex_envs": {
   "LaTeX_envs_menu_present": true,
   "autoclose": false,
   "autocomplete": true,
   "bibliofile": "biblio.bib",
   "cite_by": "apalike",
   "current_citInitial": 1,
   "eqLabelWithNumbers": true,
   "eqNumInitial": 0,
   "hotkeys": {
    "equation": "Ctrl-E",
    "itemize": "Ctrl-I"
   },
   "labels_anchors": false,
   "latex_user_defs": false,
   "report_style_numbering": false,
   "user_envs_cfg": false
  },
  "nteract": {
   "version": "0.15.0"
  },
  "toc": {
   "base_numbering": 1,
   "nav_menu": {},
   "number_sections": false,
   "sideBar": false,
   "skip_h1_title": false,
   "title_cell": "Table of Contents",
   "title_sidebar": "Contents",
   "toc_cell": false,
   "toc_position": {
    "height": "712px",
    "left": "1250px",
    "top": "113px",
    "width": "312px"
   },
   "toc_section_display": false,
   "toc_window_display": false
  },
  "toc_position": {
   "height": "648px",
   "left": "11px",
   "right": "20px",
   "top": "117px",
   "width": "147px"
  }
 },
 "nbformat": 4,
 "nbformat_minor": 1
}
